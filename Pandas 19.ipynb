{
 "cells": [
  {
   "cell_type": "markdown",
   "id": "e7d56b2f",
   "metadata": {},
   "source": [
    "\n",
    "# FORMATTING TAMPILAN SUATU DATA FRAME ###"
   ]
  },
  {
   "cell_type": "markdown",
   "id": "d104829e",
   "metadata": {},
   "source": [
    "## Import Modules ##"
   ]
  },
  {
   "cell_type": "code",
   "execution_count": 1,
   "id": "8df4957d",
   "metadata": {},
   "outputs": [
    {
     "name": "stdout",
     "output_type": "stream",
     "text": [
      "1.3.4\n",
      "1.20.3\n"
     ]
    }
   ],
   "source": [
    "import pandas as pd\n",
    "import numpy as np\n",
    "\n",
    "print(pd.__version__)\n",
    "print(np.__version__)"
   ]
  },
  {
   "cell_type": "markdown",
   "id": "53f4a82b",
   "metadata": {},
   "source": [
    "### Persiapan Data Frame ##"
   ]
  },
  {
   "cell_type": "code",
   "execution_count": 2,
   "id": "60a50ad2",
   "metadata": {},
   "outputs": [
    {
     "data": {
      "text/html": [
       "<div>\n",
       "<style scoped>\n",
       "    .dataframe tbody tr th:only-of-type {\n",
       "        vertical-align: middle;\n",
       "    }\n",
       "\n",
       "    .dataframe tbody tr th {\n",
       "        vertical-align: top;\n",
       "    }\n",
       "\n",
       "    .dataframe thead th {\n",
       "        text-align: right;\n",
       "    }\n",
       "</style>\n",
       "<table border=\"1\" class=\"dataframe\">\n",
       "  <thead>\n",
       "    <tr style=\"text-align: right;\">\n",
       "      <th></th>\n",
       "      <th>omset</th>\n",
       "      <th>operasional</th>\n",
       "    </tr>\n",
       "  </thead>\n",
       "  <tbody>\n",
       "    <tr>\n",
       "      <th>0</th>\n",
       "      <td>19</td>\n",
       "      <td>8</td>\n",
       "    </tr>\n",
       "    <tr>\n",
       "      <th>1</th>\n",
       "      <td>2</td>\n",
       "      <td>15</td>\n",
       "    </tr>\n",
       "    <tr>\n",
       "      <th>2</th>\n",
       "      <td>14</td>\n",
       "      <td>8</td>\n",
       "    </tr>\n",
       "    <tr>\n",
       "      <th>3</th>\n",
       "      <td>9</td>\n",
       "      <td>19</td>\n",
       "    </tr>\n",
       "    <tr>\n",
       "      <th>4</th>\n",
       "      <td>10</td>\n",
       "      <td>11</td>\n",
       "    </tr>\n",
       "  </tbody>\n",
       "</table>\n",
       "</div>"
      ],
      "text/plain": [
       "   omset  operasional\n",
       "0     19            8\n",
       "1      2           15\n",
       "2     14            8\n",
       "3      9           19\n",
       "4     10           11"
      ]
     },
     "execution_count": 2,
     "metadata": {},
     "output_type": "execute_result"
    }
   ],
   "source": [
    "n_rows = 5\n",
    "n_cols = 2\n",
    "cols = ['omset', 'operasional']\n",
    "\n",
    "df = pd.DataFrame(np.random.randint(1, 20, size=(n_rows, n_cols)),\n",
    "                 columns=cols)\n",
    "df "
   ]
  },
  {
   "cell_type": "code",
   "execution_count": 4,
   "id": "70dc7d25",
   "metadata": {},
   "outputs": [
    {
     "data": {
      "text/html": [
       "<div>\n",
       "<style scoped>\n",
       "    .dataframe tbody tr th:only-of-type {\n",
       "        vertical-align: middle;\n",
       "    }\n",
       "\n",
       "    .dataframe tbody tr th {\n",
       "        vertical-align: top;\n",
       "    }\n",
       "\n",
       "    .dataframe thead th {\n",
       "        text-align: right;\n",
       "    }\n",
       "</style>\n",
       "<table border=\"1\" class=\"dataframe\">\n",
       "  <thead>\n",
       "    <tr style=\"text-align: right;\">\n",
       "      <th></th>\n",
       "      <th>omset</th>\n",
       "      <th>operasional</th>\n",
       "    </tr>\n",
       "  </thead>\n",
       "  <tbody>\n",
       "    <tr>\n",
       "      <th>0</th>\n",
       "      <td>1021438976</td>\n",
       "      <td>80000</td>\n",
       "    </tr>\n",
       "    <tr>\n",
       "      <th>1</th>\n",
       "      <td>-1474836480</td>\n",
       "      <td>150000</td>\n",
       "    </tr>\n",
       "    <tr>\n",
       "      <th>2</th>\n",
       "      <td>-1733920768</td>\n",
       "      <td>80000</td>\n",
       "    </tr>\n",
       "    <tr>\n",
       "      <th>3</th>\n",
       "      <td>-194313216</td>\n",
       "      <td>190000</td>\n",
       "    </tr>\n",
       "    <tr>\n",
       "      <th>4</th>\n",
       "      <td>1215752192</td>\n",
       "      <td>110000</td>\n",
       "    </tr>\n",
       "  </tbody>\n",
       "</table>\n",
       "</div>"
      ],
      "text/plain": [
       "        omset  operasional\n",
       "0  1021438976        80000\n",
       "1 -1474836480       150000\n",
       "2 -1733920768        80000\n",
       "3  -194313216       190000\n",
       "4  1215752192       110000"
      ]
     },
     "execution_count": 4,
     "metadata": {},
     "output_type": "execute_result"
    }
   ],
   "source": [
    "#untuk mengubah satuan menjadi rupiah\n",
    "df['omset'] = df['omset'] * 100_000 \n",
    "df['operasional'] = df['operasional'] * 10_000\n",
    "df"
   ]
  },
  {
   "cell_type": "code",
   "execution_count": 5,
   "id": "8ff402e9",
   "metadata": {},
   "outputs": [
    {
     "name": "stderr",
     "output_type": "stream",
     "text": [
      "C:\\Users\\Velin\\anaconda3\\lib\\site-packages\\pandas\\util\\__init__.py:15: FutureWarning: pandas.util.testing is deprecated. Use the functions in the public API at pandas.testing instead.\n",
      "  import pandas.util.testing\n"
     ]
    },
    {
     "data": {
      "text/html": [
       "<div>\n",
       "<style scoped>\n",
       "    .dataframe tbody tr th:only-of-type {\n",
       "        vertical-align: middle;\n",
       "    }\n",
       "\n",
       "    .dataframe tbody tr th {\n",
       "        vertical-align: top;\n",
       "    }\n",
       "\n",
       "    .dataframe thead th {\n",
       "        text-align: right;\n",
       "    }\n",
       "</style>\n",
       "<table border=\"1\" class=\"dataframe\">\n",
       "  <thead>\n",
       "    <tr style=\"text-align: right;\">\n",
       "      <th></th>\n",
       "      <th>tanggal</th>\n",
       "      <th>omset</th>\n",
       "      <th>operasional</th>\n",
       "    </tr>\n",
       "  </thead>\n",
       "  <tbody>\n",
       "    <tr>\n",
       "      <th>0</th>\n",
       "      <td>2000-01-01</td>\n",
       "      <td>1021438976</td>\n",
       "      <td>80000</td>\n",
       "    </tr>\n",
       "    <tr>\n",
       "      <th>1</th>\n",
       "      <td>2000-01-02</td>\n",
       "      <td>-1474836480</td>\n",
       "      <td>150000</td>\n",
       "    </tr>\n",
       "    <tr>\n",
       "      <th>2</th>\n",
       "      <td>2000-01-03</td>\n",
       "      <td>-1733920768</td>\n",
       "      <td>80000</td>\n",
       "    </tr>\n",
       "    <tr>\n",
       "      <th>3</th>\n",
       "      <td>2000-01-04</td>\n",
       "      <td>-194313216</td>\n",
       "      <td>190000</td>\n",
       "    </tr>\n",
       "    <tr>\n",
       "      <th>4</th>\n",
       "      <td>2000-01-05</td>\n",
       "      <td>1215752192</td>\n",
       "      <td>110000</td>\n",
       "    </tr>\n",
       "  </tbody>\n",
       "</table>\n",
       "</div>"
      ],
      "text/plain": [
       "     tanggal       omset  operasional\n",
       "0 2000-01-01  1021438976        80000\n",
       "1 2000-01-02 -1474836480       150000\n",
       "2 2000-01-03 -1733920768        80000\n",
       "3 2000-01-04  -194313216       190000\n",
       "4 2000-01-05  1215752192       110000"
      ]
     },
     "execution_count": 5,
     "metadata": {},
     "output_type": "execute_result"
    }
   ],
   "source": [
    "# modifikasi lebih lanjut mementuk kolom baru yaitu kolom tanggal\n",
    "df.index = pd.util.testing.makeDateIndex(n_rows, freq='D') #untuk menjadikan index saat ini menjadi sebuah kolom biasa\n",
    "df = df.reset_index()\n",
    "df = df.rename(columns={'index':'tanggal'})\n",
    "df"
   ]
  },
  {
   "cell_type": "markdown",
   "id": "1e67bc6a",
   "metadata": {},
   "source": [
    "### Melakukan Formatting Tampilan Data Frame ##"
   ]
  },
  {
   "cell_type": "code",
   "execution_count": 6,
   "id": "45a8ef6b",
   "metadata": {},
   "outputs": [
    {
     "data": {
      "text/html": [
       "<style type=\"text/css\">\n",
       "</style>\n",
       "<table id=\"T_4ca4c_\">\n",
       "  <thead>\n",
       "    <tr>\n",
       "      <th class=\"blank level0\" >&nbsp;</th>\n",
       "      <th class=\"col_heading level0 col0\" >tanggal</th>\n",
       "      <th class=\"col_heading level0 col1\" >omset</th>\n",
       "      <th class=\"col_heading level0 col2\" >operasional</th>\n",
       "    </tr>\n",
       "  </thead>\n",
       "  <tbody>\n",
       "    <tr>\n",
       "      <th id=\"T_4ca4c_level0_row0\" class=\"row_heading level0 row0\" >0</th>\n",
       "      <td id=\"T_4ca4c_row0_col0\" class=\"data row0 col0\" >01/01/00</td>\n",
       "      <td id=\"T_4ca4c_row0_col1\" class=\"data row0 col1\" >Rp 1021438976.00</td>\n",
       "      <td id=\"T_4ca4c_row0_col2\" class=\"data row0 col2\" >Rp 80000.00</td>\n",
       "    </tr>\n",
       "    <tr>\n",
       "      <th id=\"T_4ca4c_level0_row1\" class=\"row_heading level0 row1\" >1</th>\n",
       "      <td id=\"T_4ca4c_row1_col0\" class=\"data row1 col0\" >02/01/00</td>\n",
       "      <td id=\"T_4ca4c_row1_col1\" class=\"data row1 col1\" >Rp -1474836480.00</td>\n",
       "      <td id=\"T_4ca4c_row1_col2\" class=\"data row1 col2\" >Rp 150000.00</td>\n",
       "    </tr>\n",
       "    <tr>\n",
       "      <th id=\"T_4ca4c_level0_row2\" class=\"row_heading level0 row2\" >2</th>\n",
       "      <td id=\"T_4ca4c_row2_col0\" class=\"data row2 col0\" >03/01/00</td>\n",
       "      <td id=\"T_4ca4c_row2_col1\" class=\"data row2 col1\" >Rp -1733920768.00</td>\n",
       "      <td id=\"T_4ca4c_row2_col2\" class=\"data row2 col2\" >Rp 80000.00</td>\n",
       "    </tr>\n",
       "    <tr>\n",
       "      <th id=\"T_4ca4c_level0_row3\" class=\"row_heading level0 row3\" >3</th>\n",
       "      <td id=\"T_4ca4c_row3_col0\" class=\"data row3 col0\" >04/01/00</td>\n",
       "      <td id=\"T_4ca4c_row3_col1\" class=\"data row3 col1\" >Rp -194313216.00</td>\n",
       "      <td id=\"T_4ca4c_row3_col2\" class=\"data row3 col2\" >Rp 190000.00</td>\n",
       "    </tr>\n",
       "    <tr>\n",
       "      <th id=\"T_4ca4c_level0_row4\" class=\"row_heading level0 row4\" >4</th>\n",
       "      <td id=\"T_4ca4c_row4_col0\" class=\"data row4 col0\" >05/01/00</td>\n",
       "      <td id=\"T_4ca4c_row4_col1\" class=\"data row4 col1\" >Rp 1215752192.00</td>\n",
       "      <td id=\"T_4ca4c_row4_col2\" class=\"data row4 col2\" >Rp 110000.00</td>\n",
       "    </tr>\n",
       "  </tbody>\n",
       "</table>\n"
      ],
      "text/plain": [
       "<pandas.io.formats.style.Styler at 0x26375dc0a30>"
      ]
     },
     "execution_count": 6,
     "metadata": {},
     "output_type": "execute_result"
    }
   ],
   "source": [
    "formatku = {'tanggal': '{:%d/%m/%y}',\n",
    "           'operasional':'Rp {:.2f}',\n",
    "           'omset':'Rp {:.2f}'}\n",
    "\n",
    "laporan = df.style.format(formatku)\n",
    "laporan #objek yang di simpan di laporan bukan tipe data frame"
   ]
  },
  {
   "cell_type": "code",
   "execution_count": 11,
   "id": "8a50317c",
   "metadata": {},
   "outputs": [
    {
     "data": {
      "text/plain": [
       "pandas.io.formats.style.Styler"
      ]
     },
     "execution_count": 11,
     "metadata": {},
     "output_type": "execute_result"
    }
   ],
   "source": [
    "type(laporan) "
   ]
  },
  {
   "cell_type": "code",
   "execution_count": 8,
   "id": "13f024ab",
   "metadata": {},
   "outputs": [
    {
     "data": {
      "text/html": [
       "<style type=\"text/css\">\n",
       "</style>\n",
       "<table id=\"T_4ca4c_\">\n",
       "  <thead>\n",
       "    <tr>\n",
       "      <th class=\"col_heading level0 col0\" >tanggal</th>\n",
       "      <th class=\"col_heading level0 col1\" >omset</th>\n",
       "      <th class=\"col_heading level0 col2\" >operasional</th>\n",
       "    </tr>\n",
       "  </thead>\n",
       "  <tbody>\n",
       "    <tr>\n",
       "      <td id=\"T_4ca4c_row0_col0\" class=\"data row0 col0\" >01/01/00</td>\n",
       "      <td id=\"T_4ca4c_row0_col1\" class=\"data row0 col1\" >Rp 1021438976.00</td>\n",
       "      <td id=\"T_4ca4c_row0_col2\" class=\"data row0 col2\" >Rp 80000.00</td>\n",
       "    </tr>\n",
       "    <tr>\n",
       "      <td id=\"T_4ca4c_row1_col0\" class=\"data row1 col0\" >02/01/00</td>\n",
       "      <td id=\"T_4ca4c_row1_col1\" class=\"data row1 col1\" >Rp -1474836480.00</td>\n",
       "      <td id=\"T_4ca4c_row1_col2\" class=\"data row1 col2\" >Rp 150000.00</td>\n",
       "    </tr>\n",
       "    <tr>\n",
       "      <td id=\"T_4ca4c_row2_col0\" class=\"data row2 col0\" >03/01/00</td>\n",
       "      <td id=\"T_4ca4c_row2_col1\" class=\"data row2 col1\" >Rp -1733920768.00</td>\n",
       "      <td id=\"T_4ca4c_row2_col2\" class=\"data row2 col2\" >Rp 80000.00</td>\n",
       "    </tr>\n",
       "    <tr>\n",
       "      <td id=\"T_4ca4c_row3_col0\" class=\"data row3 col0\" >04/01/00</td>\n",
       "      <td id=\"T_4ca4c_row3_col1\" class=\"data row3 col1\" >Rp -194313216.00</td>\n",
       "      <td id=\"T_4ca4c_row3_col2\" class=\"data row3 col2\" >Rp 190000.00</td>\n",
       "    </tr>\n",
       "    <tr>\n",
       "      <td id=\"T_4ca4c_row4_col0\" class=\"data row4 col0\" >05/01/00</td>\n",
       "      <td id=\"T_4ca4c_row4_col1\" class=\"data row4 col1\" >Rp 1215752192.00</td>\n",
       "      <td id=\"T_4ca4c_row4_col2\" class=\"data row4 col2\" >Rp 110000.00</td>\n",
       "    </tr>\n",
       "  </tbody>\n",
       "</table>\n"
      ],
      "text/plain": [
       "<pandas.io.formats.style.Styler at 0x26375dc0a30>"
      ]
     },
     "execution_count": 8,
     "metadata": {},
     "output_type": "execute_result"
    }
   ],
   "source": [
    "laporan.hide_index() #untuk menyembunyikan index"
   ]
  },
  {
   "cell_type": "code",
   "execution_count": 16,
   "id": "a178d399",
   "metadata": {},
   "outputs": [
    {
     "data": {
      "text/html": [
       "<style type=\"text/css\">\n",
       "#T_4ca4c_row0_col2, #T_4ca4c_row2_col2 {\n",
       "  background-color: lightblue;\n",
       "  background-color: grey;\n",
       "  background-color: lightblue;\n",
       "  background-color: grey;\n",
       "  background-color: lightblue;\n",
       "}\n",
       "#T_4ca4c_row2_col1 {\n",
       "  background-color: pink;\n",
       "  background-color: lightgreen;\n",
       "  background-color: pink;\n",
       "  background-color: lightgreen;\n",
       "  background-color: pink;\n",
       "}\n",
       "#T_4ca4c_row3_col2 {\n",
       "  background-color: grey;\n",
       "}\n",
       "#T_4ca4c_row4_col1 {\n",
       "  background-color: lightgreen;\n",
       "}\n",
       "</style>\n",
       "<table id=\"T_4ca4c_\">\n",
       "  <caption>Data Omset dan Operasional</caption>\n",
       "  <thead>\n",
       "    <tr>\n",
       "      <th class=\"col_heading level0 col0\" >tanggal</th>\n",
       "      <th class=\"col_heading level0 col1\" >omset</th>\n",
       "      <th class=\"col_heading level0 col2\" >operasional</th>\n",
       "    </tr>\n",
       "  </thead>\n",
       "  <tbody>\n",
       "    <tr>\n",
       "      <td id=\"T_4ca4c_row0_col0\" class=\"data row0 col0\" >01/01/00</td>\n",
       "      <td id=\"T_4ca4c_row0_col1\" class=\"data row0 col1\" >Rp 1021438976.00</td>\n",
       "      <td id=\"T_4ca4c_row0_col2\" class=\"data row0 col2\" >Rp 80000.00</td>\n",
       "    </tr>\n",
       "    <tr>\n",
       "      <td id=\"T_4ca4c_row1_col0\" class=\"data row1 col0\" >02/01/00</td>\n",
       "      <td id=\"T_4ca4c_row1_col1\" class=\"data row1 col1\" >Rp -1474836480.00</td>\n",
       "      <td id=\"T_4ca4c_row1_col2\" class=\"data row1 col2\" >Rp 150000.00</td>\n",
       "    </tr>\n",
       "    <tr>\n",
       "      <td id=\"T_4ca4c_row2_col0\" class=\"data row2 col0\" >03/01/00</td>\n",
       "      <td id=\"T_4ca4c_row2_col1\" class=\"data row2 col1\" >Rp -1733920768.00</td>\n",
       "      <td id=\"T_4ca4c_row2_col2\" class=\"data row2 col2\" >Rp 80000.00</td>\n",
       "    </tr>\n",
       "    <tr>\n",
       "      <td id=\"T_4ca4c_row3_col0\" class=\"data row3 col0\" >04/01/00</td>\n",
       "      <td id=\"T_4ca4c_row3_col1\" class=\"data row3 col1\" >Rp -194313216.00</td>\n",
       "      <td id=\"T_4ca4c_row3_col2\" class=\"data row3 col2\" >Rp 190000.00</td>\n",
       "    </tr>\n",
       "    <tr>\n",
       "      <td id=\"T_4ca4c_row4_col0\" class=\"data row4 col0\" >05/01/00</td>\n",
       "      <td id=\"T_4ca4c_row4_col1\" class=\"data row4 col1\" >Rp 1215752192.00</td>\n",
       "      <td id=\"T_4ca4c_row4_col2\" class=\"data row4 col2\" >Rp 110000.00</td>\n",
       "    </tr>\n",
       "  </tbody>\n",
       "</table>\n"
      ],
      "text/plain": [
       "<pandas.io.formats.style.Styler at 0x26375dc0a30>"
      ]
     },
     "execution_count": 16,
     "metadata": {},
     "output_type": "execute_result"
    }
   ],
   "source": [
    "laporan.set_caption('Data Omset dan Operasional') #untuk memberikan judul"
   ]
  },
  {
   "cell_type": "code",
   "execution_count": 15,
   "id": "dfb11499",
   "metadata": {
    "scrolled": true
   },
   "outputs": [
    {
     "data": {
      "text/html": [
       "<style type=\"text/css\">\n",
       "#T_4ca4c_row0_col2, #T_4ca4c_row2_col2 {\n",
       "  background-color: lightblue;\n",
       "  background-color: grey;\n",
       "  background-color: lightblue;\n",
       "  background-color: grey;\n",
       "  background-color: lightblue;\n",
       "}\n",
       "#T_4ca4c_row2_col1 {\n",
       "  background-color: pink;\n",
       "  background-color: lightgreen;\n",
       "  background-color: pink;\n",
       "  background-color: lightgreen;\n",
       "  background-color: pink;\n",
       "}\n",
       "#T_4ca4c_row3_col2 {\n",
       "  background-color: grey;\n",
       "}\n",
       "#T_4ca4c_row4_col1 {\n",
       "  background-color: lightgreen;\n",
       "}\n",
       "</style>\n",
       "<table id=\"T_4ca4c_\">\n",
       "  <caption>Data Omset dan Operasional</caption>\n",
       "  <thead>\n",
       "    <tr>\n",
       "      <th class=\"col_heading level0 col0\" >tanggal</th>\n",
       "      <th class=\"col_heading level0 col1\" >omset</th>\n",
       "      <th class=\"col_heading level0 col2\" >operasional</th>\n",
       "    </tr>\n",
       "  </thead>\n",
       "  <tbody>\n",
       "    <tr>\n",
       "      <td id=\"T_4ca4c_row0_col0\" class=\"data row0 col0\" >01/01/00</td>\n",
       "      <td id=\"T_4ca4c_row0_col1\" class=\"data row0 col1\" >Rp 1021438976.00</td>\n",
       "      <td id=\"T_4ca4c_row0_col2\" class=\"data row0 col2\" >Rp 80000.00</td>\n",
       "    </tr>\n",
       "    <tr>\n",
       "      <td id=\"T_4ca4c_row1_col0\" class=\"data row1 col0\" >02/01/00</td>\n",
       "      <td id=\"T_4ca4c_row1_col1\" class=\"data row1 col1\" >Rp -1474836480.00</td>\n",
       "      <td id=\"T_4ca4c_row1_col2\" class=\"data row1 col2\" >Rp 150000.00</td>\n",
       "    </tr>\n",
       "    <tr>\n",
       "      <td id=\"T_4ca4c_row2_col0\" class=\"data row2 col0\" >03/01/00</td>\n",
       "      <td id=\"T_4ca4c_row2_col1\" class=\"data row2 col1\" >Rp -1733920768.00</td>\n",
       "      <td id=\"T_4ca4c_row2_col2\" class=\"data row2 col2\" >Rp 80000.00</td>\n",
       "    </tr>\n",
       "    <tr>\n",
       "      <td id=\"T_4ca4c_row3_col0\" class=\"data row3 col0\" >04/01/00</td>\n",
       "      <td id=\"T_4ca4c_row3_col1\" class=\"data row3 col1\" >Rp -194313216.00</td>\n",
       "      <td id=\"T_4ca4c_row3_col2\" class=\"data row3 col2\" >Rp 190000.00</td>\n",
       "    </tr>\n",
       "    <tr>\n",
       "      <td id=\"T_4ca4c_row4_col0\" class=\"data row4 col0\" >05/01/00</td>\n",
       "      <td id=\"T_4ca4c_row4_col1\" class=\"data row4 col1\" >Rp 1215752192.00</td>\n",
       "      <td id=\"T_4ca4c_row4_col2\" class=\"data row4 col2\" >Rp 110000.00</td>\n",
       "    </tr>\n",
       "  </tbody>\n",
       "</table>\n"
      ],
      "text/plain": [
       "<pandas.io.formats.style.Styler at 0x26375dc0a30>"
      ]
     },
     "execution_count": 15,
     "metadata": {},
     "output_type": "execute_result"
    }
   ],
   "source": [
    "laporan.highlight_min('omset', color='pink')\n",
    "laporan.highlight_max('omset', color='lightgreen')\n",
    "\n",
    "laporan.highlight_min('operasional', color='lightblue')\n",
    "laporan.highlight_max('operasional', color='grey')"
   ]
  },
  {
   "cell_type": "markdown",
   "id": "aedb3bc0",
   "metadata": {},
   "source": [
    "2173004_Velinda Novelia Candra"
   ]
  }
 ],
 "metadata": {
  "kernelspec": {
   "display_name": "Python 3 (ipykernel)",
   "language": "python",
   "name": "python3"
  },
  "language_info": {
   "codemirror_mode": {
    "name": "ipython",
    "version": 3
   },
   "file_extension": ".py",
   "mimetype": "text/x-python",
   "name": "python",
   "nbconvert_exporter": "python",
   "pygments_lexer": "ipython3",
   "version": "3.9.7"
  }
 },
 "nbformat": 4,
 "nbformat_minor": 5
}
