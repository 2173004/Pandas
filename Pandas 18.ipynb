{
 "cells": [
  {
   "cell_type": "markdown",
   "id": "9779e93f",
   "metadata": {},
   "source": [
    "# MEMBENTUK DUMMY DATA FRAME ###"
   ]
  },
  {
   "cell_type": "markdown",
   "id": "fd0beefb",
   "metadata": {},
   "source": [
    "### Import Modules ##"
   ]
  },
  {
   "cell_type": "code",
   "execution_count": 1,
   "id": "47c2c1a4",
   "metadata": {},
   "outputs": [
    {
     "name": "stdout",
     "output_type": "stream",
     "text": [
      "1.3.4\n",
      "1.20.3\n"
     ]
    }
   ],
   "source": [
    "import pandas as pd\n",
    "import numpy as np\n",
    "\n",
    "print(pd.__version__)\n",
    "print(np.__version__)"
   ]
  },
  {
   "cell_type": "markdown",
   "id": "63759b96",
   "metadata": {},
   "source": [
    "## Membentuk Data Frame Dari Dictionary #"
   ]
  },
  {
   "cell_type": "code",
   "execution_count": 2,
   "id": "e368a320",
   "metadata": {},
   "outputs": [
    {
     "data": {
      "text/html": [
       "<div>\n",
       "<style scoped>\n",
       "    .dataframe tbody tr th:only-of-type {\n",
       "        vertical-align: middle;\n",
       "    }\n",
       "\n",
       "    .dataframe tbody tr th {\n",
       "        vertical-align: top;\n",
       "    }\n",
       "\n",
       "    .dataframe thead th {\n",
       "        text-align: right;\n",
       "    }\n",
       "</style>\n",
       "<table border=\"1\" class=\"dataframe\">\n",
       "  <thead>\n",
       "    <tr style=\"text-align: right;\">\n",
       "      <th></th>\n",
       "      <th>col1</th>\n",
       "      <th>col2</th>\n",
       "    </tr>\n",
       "  </thead>\n",
       "  <tbody>\n",
       "    <tr>\n",
       "      <th>0</th>\n",
       "      <td>1</td>\n",
       "      <td>5</td>\n",
       "    </tr>\n",
       "    <tr>\n",
       "      <th>1</th>\n",
       "      <td>2</td>\n",
       "      <td>6</td>\n",
       "    </tr>\n",
       "    <tr>\n",
       "      <th>2</th>\n",
       "      <td>3</td>\n",
       "      <td>7</td>\n",
       "    </tr>\n",
       "    <tr>\n",
       "      <th>3</th>\n",
       "      <td>4</td>\n",
       "      <td>8</td>\n",
       "    </tr>\n",
       "  </tbody>\n",
       "</table>\n",
       "</div>"
      ],
      "text/plain": [
       "   col1  col2\n",
       "0     1     5\n",
       "1     2     6\n",
       "2     3     7\n",
       "3     4     8"
      ]
     },
     "execution_count": 2,
     "metadata": {},
     "output_type": "execute_result"
    }
   ],
   "source": [
    "pd.DataFrame({'col1':[1, 2, 3, 4],\n",
    "             'col2':[5, 6 ,7 , 8]})"
   ]
  },
  {
   "cell_type": "markdown",
   "id": "12524ec4",
   "metadata": {},
   "source": [
    "### Membentuk Data Frame Dari Numpy Array ##"
   ]
  },
  {
   "cell_type": "code",
   "execution_count": 4,
   "id": "ab369779",
   "metadata": {},
   "outputs": [
    {
     "data": {
      "text/plain": [
       "array([[13,  6,  3],\n",
       "       [ 9, 11, 18],\n",
       "       [16, 14, 12],\n",
       "       [17, 11,  1],\n",
       "       [ 6,  6, 19]])"
      ]
     },
     "execution_count": 4,
     "metadata": {},
     "output_type": "execute_result"
    }
   ],
   "source": [
    "n_rows = 5\n",
    "n_cols = 3\n",
    "\n",
    "\n",
    "arr = np.random.randint(1, 20, size=(n_rows, n_cols))\n",
    "arr "
   ]
  },
  {
   "cell_type": "code",
   "execution_count": 5,
   "id": "d5295534",
   "metadata": {},
   "outputs": [
    {
     "data": {
      "text/html": [
       "<div>\n",
       "<style scoped>\n",
       "    .dataframe tbody tr th:only-of-type {\n",
       "        vertical-align: middle;\n",
       "    }\n",
       "\n",
       "    .dataframe tbody tr th {\n",
       "        vertical-align: top;\n",
       "    }\n",
       "\n",
       "    .dataframe thead th {\n",
       "        text-align: right;\n",
       "    }\n",
       "</style>\n",
       "<table border=\"1\" class=\"dataframe\">\n",
       "  <thead>\n",
       "    <tr style=\"text-align: right;\">\n",
       "      <th></th>\n",
       "      <th>A</th>\n",
       "      <th>B</th>\n",
       "      <th>C</th>\n",
       "    </tr>\n",
       "  </thead>\n",
       "  <tbody>\n",
       "    <tr>\n",
       "      <th>0</th>\n",
       "      <td>13</td>\n",
       "      <td>6</td>\n",
       "      <td>3</td>\n",
       "    </tr>\n",
       "    <tr>\n",
       "      <th>1</th>\n",
       "      <td>9</td>\n",
       "      <td>11</td>\n",
       "      <td>18</td>\n",
       "    </tr>\n",
       "    <tr>\n",
       "      <th>2</th>\n",
       "      <td>16</td>\n",
       "      <td>14</td>\n",
       "      <td>12</td>\n",
       "    </tr>\n",
       "    <tr>\n",
       "      <th>3</th>\n",
       "      <td>17</td>\n",
       "      <td>11</td>\n",
       "      <td>1</td>\n",
       "    </tr>\n",
       "    <tr>\n",
       "      <th>4</th>\n",
       "      <td>6</td>\n",
       "      <td>6</td>\n",
       "      <td>19</td>\n",
       "    </tr>\n",
       "  </tbody>\n",
       "</table>\n",
       "</div>"
      ],
      "text/plain": [
       "    A   B   C\n",
       "0  13   6   3\n",
       "1   9  11  18\n",
       "2  16  14  12\n",
       "3  17  11   1\n",
       "4   6   6  19"
      ]
     },
     "execution_count": 5,
     "metadata": {},
     "output_type": "execute_result"
    }
   ],
   "source": [
    "pd.DataFrame(arr, columns=tuple('ABC')) # tuple untuk memberi label setiap kolomnya"
   ]
  },
  {
   "cell_type": "markdown",
   "id": "96959ca4",
   "metadata": {},
   "source": [
    "## Membentuk Data Frame Dengan Memanfaatkan pandas.util.testing ###"
   ]
  },
  {
   "cell_type": "code",
   "execution_count": 6,
   "id": "d601d446",
   "metadata": {},
   "outputs": [
    {
     "name": "stderr",
     "output_type": "stream",
     "text": [
      "C:\\Users\\Velin\\anaconda3\\lib\\site-packages\\pandas\\util\\__init__.py:15: FutureWarning: pandas.util.testing is deprecated. Use the functions in the public API at pandas.testing instead.\n",
      "  import pandas.util.testing\n"
     ]
    },
    {
     "data": {
      "text/html": [
       "<div>\n",
       "<style scoped>\n",
       "    .dataframe tbody tr th:only-of-type {\n",
       "        vertical-align: middle;\n",
       "    }\n",
       "\n",
       "    .dataframe tbody tr th {\n",
       "        vertical-align: top;\n",
       "    }\n",
       "\n",
       "    .dataframe thead th {\n",
       "        text-align: right;\n",
       "    }\n",
       "</style>\n",
       "<table border=\"1\" class=\"dataframe\">\n",
       "  <thead>\n",
       "    <tr style=\"text-align: right;\">\n",
       "      <th></th>\n",
       "      <th>A</th>\n",
       "      <th>B</th>\n",
       "      <th>C</th>\n",
       "      <th>D</th>\n",
       "    </tr>\n",
       "  </thead>\n",
       "  <tbody>\n",
       "    <tr>\n",
       "      <th>W7d3MOxxnV</th>\n",
       "      <td>-0.275856</td>\n",
       "      <td>0.144822</td>\n",
       "      <td>1.094954</td>\n",
       "      <td>0.574734</td>\n",
       "    </tr>\n",
       "    <tr>\n",
       "      <th>5QB7z4RyMI</th>\n",
       "      <td>0.877218</td>\n",
       "      <td>-1.054176</td>\n",
       "      <td>1.414574</td>\n",
       "      <td>1.505703</td>\n",
       "    </tr>\n",
       "    <tr>\n",
       "      <th>V017nZyASr</th>\n",
       "      <td>1.694290</td>\n",
       "      <td>-1.002049</td>\n",
       "      <td>1.027036</td>\n",
       "      <td>-1.414731</td>\n",
       "    </tr>\n",
       "    <tr>\n",
       "      <th>Quu1axzotb</th>\n",
       "      <td>-0.682984</td>\n",
       "      <td>0.933770</td>\n",
       "      <td>0.922695</td>\n",
       "      <td>-0.577009</td>\n",
       "    </tr>\n",
       "    <tr>\n",
       "      <th>IseT4byUfz</th>\n",
       "      <td>0.660413</td>\n",
       "      <td>0.659451</td>\n",
       "      <td>1.205643</td>\n",
       "      <td>0.635443</td>\n",
       "    </tr>\n",
       "  </tbody>\n",
       "</table>\n",
       "</div>"
      ],
      "text/plain": [
       "                   A         B         C         D\n",
       "W7d3MOxxnV -0.275856  0.144822  1.094954  0.574734\n",
       "5QB7z4RyMI  0.877218 -1.054176  1.414574  1.505703\n",
       "V017nZyASr  1.694290 -1.002049  1.027036 -1.414731\n",
       "Quu1axzotb -0.682984  0.933770  0.922695 -0.577009\n",
       "IseT4byUfz  0.660413  0.659451  1.205643  0.635443"
      ]
     },
     "execution_count": 6,
     "metadata": {},
     "output_type": "execute_result"
    }
   ],
   "source": [
    "pd.util.testing.makeDataFrame().head() #head hanya menampilkan 5 data pertama"
   ]
  },
  {
   "cell_type": "code",
   "execution_count": 8,
   "id": "4315fa5f",
   "metadata": {},
   "outputs": [
    {
     "data": {
      "text/html": [
       "<div>\n",
       "<style scoped>\n",
       "    .dataframe tbody tr th:only-of-type {\n",
       "        vertical-align: middle;\n",
       "    }\n",
       "\n",
       "    .dataframe tbody tr th {\n",
       "        vertical-align: top;\n",
       "    }\n",
       "\n",
       "    .dataframe thead th {\n",
       "        text-align: right;\n",
       "    }\n",
       "</style>\n",
       "<table border=\"1\" class=\"dataframe\">\n",
       "  <thead>\n",
       "    <tr style=\"text-align: right;\">\n",
       "      <th></th>\n",
       "      <th>A</th>\n",
       "      <th>B</th>\n",
       "      <th>C</th>\n",
       "      <th>D</th>\n",
       "    </tr>\n",
       "  </thead>\n",
       "  <tbody>\n",
       "    <tr>\n",
       "      <th>0</th>\n",
       "      <td>0.0</td>\n",
       "      <td>0.0</td>\n",
       "      <td>foo1</td>\n",
       "      <td>2009-01-01</td>\n",
       "    </tr>\n",
       "    <tr>\n",
       "      <th>1</th>\n",
       "      <td>1.0</td>\n",
       "      <td>1.0</td>\n",
       "      <td>foo2</td>\n",
       "      <td>2009-01-02</td>\n",
       "    </tr>\n",
       "    <tr>\n",
       "      <th>2</th>\n",
       "      <td>2.0</td>\n",
       "      <td>0.0</td>\n",
       "      <td>foo3</td>\n",
       "      <td>2009-01-05</td>\n",
       "    </tr>\n",
       "    <tr>\n",
       "      <th>3</th>\n",
       "      <td>3.0</td>\n",
       "      <td>1.0</td>\n",
       "      <td>foo4</td>\n",
       "      <td>2009-01-06</td>\n",
       "    </tr>\n",
       "    <tr>\n",
       "      <th>4</th>\n",
       "      <td>4.0</td>\n",
       "      <td>0.0</td>\n",
       "      <td>foo5</td>\n",
       "      <td>2009-01-07</td>\n",
       "    </tr>\n",
       "  </tbody>\n",
       "</table>\n",
       "</div>"
      ],
      "text/plain": [
       "     A    B     C          D\n",
       "0  0.0  0.0  foo1 2009-01-01\n",
       "1  1.0  1.0  foo2 2009-01-02\n",
       "2  2.0  0.0  foo3 2009-01-05\n",
       "3  3.0  1.0  foo4 2009-01-06\n",
       "4  4.0  0.0  foo5 2009-01-07"
      ]
     },
     "execution_count": 8,
     "metadata": {},
     "output_type": "execute_result"
    }
   ],
   "source": [
    "pd.util.testing.makeMixedDataFrame().head() # Data Campur"
   ]
  },
  {
   "cell_type": "code",
   "execution_count": 11,
   "id": "b38bd831",
   "metadata": {},
   "outputs": [
    {
     "data": {
      "text/html": [
       "<div>\n",
       "<style scoped>\n",
       "    .dataframe tbody tr th:only-of-type {\n",
       "        vertical-align: middle;\n",
       "    }\n",
       "\n",
       "    .dataframe tbody tr th {\n",
       "        vertical-align: top;\n",
       "    }\n",
       "\n",
       "    .dataframe thead th {\n",
       "        text-align: right;\n",
       "    }\n",
       "</style>\n",
       "<table border=\"1\" class=\"dataframe\">\n",
       "  <thead>\n",
       "    <tr style=\"text-align: right;\">\n",
       "      <th></th>\n",
       "      <th>A</th>\n",
       "      <th>B</th>\n",
       "      <th>C</th>\n",
       "      <th>D</th>\n",
       "    </tr>\n",
       "  </thead>\n",
       "  <tbody>\n",
       "    <tr>\n",
       "      <th>2000-01-03</th>\n",
       "      <td>3.017098</td>\n",
       "      <td>0.536391</td>\n",
       "      <td>1.511231</td>\n",
       "      <td>0.841781</td>\n",
       "    </tr>\n",
       "    <tr>\n",
       "      <th>2000-01-04</th>\n",
       "      <td>0.337605</td>\n",
       "      <td>0.820902</td>\n",
       "      <td>1.727555</td>\n",
       "      <td>0.200707</td>\n",
       "    </tr>\n",
       "    <tr>\n",
       "      <th>2000-01-05</th>\n",
       "      <td>0.378110</td>\n",
       "      <td>-1.903178</td>\n",
       "      <td>1.125084</td>\n",
       "      <td>0.610952</td>\n",
       "    </tr>\n",
       "    <tr>\n",
       "      <th>2000-01-06</th>\n",
       "      <td>-0.729237</td>\n",
       "      <td>-1.086445</td>\n",
       "      <td>-0.212243</td>\n",
       "      <td>-0.456648</td>\n",
       "    </tr>\n",
       "    <tr>\n",
       "      <th>2000-01-07</th>\n",
       "      <td>-1.740158</td>\n",
       "      <td>-1.143537</td>\n",
       "      <td>0.983977</td>\n",
       "      <td>1.384829</td>\n",
       "    </tr>\n",
       "  </tbody>\n",
       "</table>\n",
       "</div>"
      ],
      "text/plain": [
       "                   A         B         C         D\n",
       "2000-01-03  3.017098  0.536391  1.511231  0.841781\n",
       "2000-01-04  0.337605  0.820902  1.727555  0.200707\n",
       "2000-01-05  0.378110 -1.903178  1.125084  0.610952\n",
       "2000-01-06 -0.729237 -1.086445 -0.212243 -0.456648\n",
       "2000-01-07 -1.740158 -1.143537  0.983977  1.384829"
      ]
     },
     "execution_count": 11,
     "metadata": {},
     "output_type": "execute_result"
    }
   ],
   "source": [
    "pd.util.testing.makeTimeDataFrame().head() # Data Waktu"
   ]
  },
  {
   "cell_type": "code",
   "execution_count": 13,
   "id": "e79de697",
   "metadata": {
    "scrolled": true
   },
   "outputs": [
    {
     "data": {
      "text/html": [
       "<div>\n",
       "<style scoped>\n",
       "    .dataframe tbody tr th:only-of-type {\n",
       "        vertical-align: middle;\n",
       "    }\n",
       "\n",
       "    .dataframe tbody tr th {\n",
       "        vertical-align: top;\n",
       "    }\n",
       "\n",
       "    .dataframe thead th {\n",
       "        text-align: right;\n",
       "    }\n",
       "</style>\n",
       "<table border=\"1\" class=\"dataframe\">\n",
       "  <thead>\n",
       "    <tr style=\"text-align: right;\">\n",
       "      <th></th>\n",
       "      <th>A</th>\n",
       "      <th>B</th>\n",
       "      <th>C</th>\n",
       "      <th>D</th>\n",
       "    </tr>\n",
       "  </thead>\n",
       "  <tbody>\n",
       "    <tr>\n",
       "      <th>02UwaiuPFh</th>\n",
       "      <td>-0.217557</td>\n",
       "      <td>2.360722</td>\n",
       "      <td>0.721464</td>\n",
       "      <td>0.546330</td>\n",
       "    </tr>\n",
       "    <tr>\n",
       "      <th>vWzbEhoe7e</th>\n",
       "      <td>-0.539040</td>\n",
       "      <td>0.154163</td>\n",
       "      <td>-1.505616</td>\n",
       "      <td>0.769950</td>\n",
       "    </tr>\n",
       "    <tr>\n",
       "      <th>tmIHUxecPE</th>\n",
       "      <td>NaN</td>\n",
       "      <td>-0.419988</td>\n",
       "      <td>-0.082661</td>\n",
       "      <td>-0.309131</td>\n",
       "    </tr>\n",
       "    <tr>\n",
       "      <th>IRgb58i8ui</th>\n",
       "      <td>NaN</td>\n",
       "      <td>0.881514</td>\n",
       "      <td>NaN</td>\n",
       "      <td>-0.793459</td>\n",
       "    </tr>\n",
       "    <tr>\n",
       "      <th>5deL12LnLa</th>\n",
       "      <td>-2.159759</td>\n",
       "      <td>-1.833331</td>\n",
       "      <td>-0.167588</td>\n",
       "      <td>0.418452</td>\n",
       "    </tr>\n",
       "  </tbody>\n",
       "</table>\n",
       "</div>"
      ],
      "text/plain": [
       "                   A         B         C         D\n",
       "02UwaiuPFh -0.217557  2.360722  0.721464  0.546330\n",
       "vWzbEhoe7e -0.539040  0.154163 -1.505616  0.769950\n",
       "tmIHUxecPE       NaN -0.419988 -0.082661 -0.309131\n",
       "IRgb58i8ui       NaN  0.881514       NaN -0.793459\n",
       "5deL12LnLa -2.159759 -1.833331 -0.167588  0.418452"
      ]
     },
     "execution_count": 13,
     "metadata": {},
     "output_type": "execute_result"
    }
   ],
   "source": [
    "pd.util.testing.makeMissingDataframe().head() # Data Hilang"
   ]
  },
  {
   "cell_type": "raw",
   "id": "2ff1dd39",
   "metadata": {},
   "source": [
    "2173004_Velinda Novelia Candra"
   ]
  }
 ],
 "metadata": {
  "kernelspec": {
   "display_name": "Python 3 (ipykernel)",
   "language": "python",
   "name": "python3"
  },
  "language_info": {
   "codemirror_mode": {
    "name": "ipython",
    "version": 3
   },
   "file_extension": ".py",
   "mimetype": "text/x-python",
   "name": "python",
   "nbconvert_exporter": "python",
   "pygments_lexer": "ipython3",
   "version": "3.9.7"
  }
 },
 "nbformat": 4,
 "nbformat_minor": 5
}
