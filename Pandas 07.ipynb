{
 "cells": [
  {
   "cell_type": "markdown",
   "id": "57bb1880",
   "metadata": {},
   "source": [
    "# MENGHAPUS(DROP) MISSING VALUES MISSING VALUES(NaN)"
   ]
  },
  {
   "cell_type": "markdown",
   "id": "a1311f14",
   "metadata": {},
   "source": [
    "## Import Modules ###"
   ]
  },
  {
   "cell_type": "code",
   "execution_count": 1,
   "id": "7f00e1dd",
   "metadata": {},
   "outputs": [
    {
     "name": "stdout",
     "output_type": "stream",
     "text": [
      "1.3.4\n"
     ]
    }
   ],
   "source": [
    "import pandas as pd\n",
    "\n",
    "print (pd.__version__)"
   ]
  },
  {
   "cell_type": "markdown",
   "id": "a92d679d",
   "metadata": {},
   "source": [
    "# Persiapan Data Frame ##"
   ]
  },
  {
   "cell_type": "code",
   "execution_count": 4,
   "id": "2ac0ec79",
   "metadata": {},
   "outputs": [
    {
     "data": {
      "text/html": [
       "<div>\n",
       "<style scoped>\n",
       "    .dataframe tbody tr th:only-of-type {\n",
       "        vertical-align: middle;\n",
       "    }\n",
       "\n",
       "    .dataframe tbody tr th {\n",
       "        vertical-align: top;\n",
       "    }\n",
       "\n",
       "    .dataframe thead th {\n",
       "        text-align: right;\n",
       "    }\n",
       "</style>\n",
       "<table border=\"1\" class=\"dataframe\">\n",
       "  <thead>\n",
       "    <tr style=\"text-align: right;\">\n",
       "      <th></th>\n",
       "      <th>index</th>\n",
       "      <th>A</th>\n",
       "      <th>B</th>\n",
       "      <th>C</th>\n",
       "      <th>D</th>\n",
       "    </tr>\n",
       "  </thead>\n",
       "  <tbody>\n",
       "    <tr>\n",
       "      <th>0</th>\n",
       "      <td>rxASTuobzE</td>\n",
       "      <td>-0.950649</td>\n",
       "      <td>NaN</td>\n",
       "      <td>0.045900</td>\n",
       "      <td>-1.518131</td>\n",
       "    </tr>\n",
       "    <tr>\n",
       "      <th>1</th>\n",
       "      <td>FQCel9Vd4k</td>\n",
       "      <td>-0.191583</td>\n",
       "      <td>-0.333996</td>\n",
       "      <td>-0.071711</td>\n",
       "      <td>0.186834</td>\n",
       "    </tr>\n",
       "    <tr>\n",
       "      <th>2</th>\n",
       "      <td>mphG83MCXD</td>\n",
       "      <td>0.463929</td>\n",
       "      <td>1.956087</td>\n",
       "      <td>0.086926</td>\n",
       "      <td>-0.452871</td>\n",
       "    </tr>\n",
       "    <tr>\n",
       "      <th>3</th>\n",
       "      <td>jYZPEuEWOx</td>\n",
       "      <td>NaN</td>\n",
       "      <td>-1.156312</td>\n",
       "      <td>NaN</td>\n",
       "      <td>0.700853</td>\n",
       "    </tr>\n",
       "    <tr>\n",
       "      <th>4</th>\n",
       "      <td>y1X4QR53ty</td>\n",
       "      <td>NaN</td>\n",
       "      <td>0.363318</td>\n",
       "      <td>-0.327789</td>\n",
       "      <td>-0.536000</td>\n",
       "    </tr>\n",
       "  </tbody>\n",
       "</table>\n",
       "</div>"
      ],
      "text/plain": [
       "        index         A         B         C         D\n",
       "0  rxASTuobzE -0.950649       NaN  0.045900 -1.518131\n",
       "1  FQCel9Vd4k -0.191583 -0.333996 -0.071711  0.186834\n",
       "2  mphG83MCXD  0.463929  1.956087  0.086926 -0.452871\n",
       "3  jYZPEuEWOx       NaN -1.156312       NaN  0.700853\n",
       "4  y1X4QR53ty       NaN  0.363318 -0.327789 -0.536000"
      ]
     },
     "execution_count": 4,
     "metadata": {},
     "output_type": "execute_result"
    }
   ],
   "source": [
    "df = pd.util.testing.makeMissingDataframe().reset_index()\n",
    "df.head()"
   ]
  },
  {
   "cell_type": "markdown",
   "id": "a04f9570",
   "metadata": {},
   "source": [
    "## Mengubah Nama Kolom Index ##"
   ]
  },
  {
   "cell_type": "code",
   "execution_count": 5,
   "id": "5fdcba44",
   "metadata": {},
   "outputs": [
    {
     "data": {
      "text/html": [
       "<div>\n",
       "<style scoped>\n",
       "    .dataframe tbody tr th:only-of-type {\n",
       "        vertical-align: middle;\n",
       "    }\n",
       "\n",
       "    .dataframe tbody tr th {\n",
       "        vertical-align: top;\n",
       "    }\n",
       "\n",
       "    .dataframe thead th {\n",
       "        text-align: right;\n",
       "    }\n",
       "</style>\n",
       "<table border=\"1\" class=\"dataframe\">\n",
       "  <thead>\n",
       "    <tr style=\"text-align: right;\">\n",
       "      <th></th>\n",
       "      <th>Z</th>\n",
       "      <th>A</th>\n",
       "      <th>B</th>\n",
       "      <th>C</th>\n",
       "      <th>D</th>\n",
       "    </tr>\n",
       "  </thead>\n",
       "  <tbody>\n",
       "    <tr>\n",
       "      <th>0</th>\n",
       "      <td>rxASTuobzE</td>\n",
       "      <td>-0.950649</td>\n",
       "      <td>NaN</td>\n",
       "      <td>0.045900</td>\n",
       "      <td>-1.518131</td>\n",
       "    </tr>\n",
       "    <tr>\n",
       "      <th>1</th>\n",
       "      <td>FQCel9Vd4k</td>\n",
       "      <td>-0.191583</td>\n",
       "      <td>-0.333996</td>\n",
       "      <td>-0.071711</td>\n",
       "      <td>0.186834</td>\n",
       "    </tr>\n",
       "    <tr>\n",
       "      <th>2</th>\n",
       "      <td>mphG83MCXD</td>\n",
       "      <td>0.463929</td>\n",
       "      <td>1.956087</td>\n",
       "      <td>0.086926</td>\n",
       "      <td>-0.452871</td>\n",
       "    </tr>\n",
       "    <tr>\n",
       "      <th>3</th>\n",
       "      <td>jYZPEuEWOx</td>\n",
       "      <td>NaN</td>\n",
       "      <td>-1.156312</td>\n",
       "      <td>NaN</td>\n",
       "      <td>0.700853</td>\n",
       "    </tr>\n",
       "    <tr>\n",
       "      <th>4</th>\n",
       "      <td>y1X4QR53ty</td>\n",
       "      <td>NaN</td>\n",
       "      <td>0.363318</td>\n",
       "      <td>-0.327789</td>\n",
       "      <td>-0.536000</td>\n",
       "    </tr>\n",
       "  </tbody>\n",
       "</table>\n",
       "</div>"
      ],
      "text/plain": [
       "            Z         A         B         C         D\n",
       "0  rxASTuobzE -0.950649       NaN  0.045900 -1.518131\n",
       "1  FQCel9Vd4k -0.191583 -0.333996 -0.071711  0.186834\n",
       "2  mphG83MCXD  0.463929  1.956087  0.086926 -0.452871\n",
       "3  jYZPEuEWOx       NaN -1.156312       NaN  0.700853\n",
       "4  y1X4QR53ty       NaN  0.363318 -0.327789 -0.536000"
      ]
     },
     "execution_count": 5,
     "metadata": {},
     "output_type": "execute_result"
    }
   ],
   "source": [
    "df = df.rename(columns={'index':'Z'})\n",
    "df.head()"
   ]
  },
  {
   "cell_type": "code",
   "execution_count": 7,
   "id": "9a24ffeb",
   "metadata": {},
   "outputs": [],
   "source": [
    "df_backup = df.copy(deep=True)"
   ]
  },
  {
   "cell_type": "raw",
   "id": "40f39e89",
   "metadata": {},
   "source": [
    "Membuat copy yang akan di simpang ke dalam df_backup"
   ]
  },
  {
   "cell_type": "markdown",
   "id": "f7aeb2b9",
   "metadata": {},
   "source": [
    "### Menghapus(drop) Setiap Kolom Yang Mengandung Missing Values ###"
   ]
  },
  {
   "cell_type": "code",
   "execution_count": 8,
   "id": "54835b6a",
   "metadata": {},
   "outputs": [
    {
     "data": {
      "text/html": [
       "<div>\n",
       "<style scoped>\n",
       "    .dataframe tbody tr th:only-of-type {\n",
       "        vertical-align: middle;\n",
       "    }\n",
       "\n",
       "    .dataframe tbody tr th {\n",
       "        vertical-align: top;\n",
       "    }\n",
       "\n",
       "    .dataframe thead th {\n",
       "        text-align: right;\n",
       "    }\n",
       "</style>\n",
       "<table border=\"1\" class=\"dataframe\">\n",
       "  <thead>\n",
       "    <tr style=\"text-align: right;\">\n",
       "      <th></th>\n",
       "      <th>Z</th>\n",
       "    </tr>\n",
       "  </thead>\n",
       "  <tbody>\n",
       "    <tr>\n",
       "      <th>0</th>\n",
       "      <td>rxASTuobzE</td>\n",
       "    </tr>\n",
       "    <tr>\n",
       "      <th>1</th>\n",
       "      <td>FQCel9Vd4k</td>\n",
       "    </tr>\n",
       "    <tr>\n",
       "      <th>2</th>\n",
       "      <td>mphG83MCXD</td>\n",
       "    </tr>\n",
       "    <tr>\n",
       "      <th>3</th>\n",
       "      <td>jYZPEuEWOx</td>\n",
       "    </tr>\n",
       "    <tr>\n",
       "      <th>4</th>\n",
       "      <td>y1X4QR53ty</td>\n",
       "    </tr>\n",
       "  </tbody>\n",
       "</table>\n",
       "</div>"
      ],
      "text/plain": [
       "            Z\n",
       "0  rxASTuobzE\n",
       "1  FQCel9Vd4k\n",
       "2  mphG83MCXD\n",
       "3  jYZPEuEWOx\n",
       "4  y1X4QR53ty"
      ]
     },
     "execution_count": 8,
     "metadata": {},
     "output_type": "execute_result"
    }
   ],
   "source": [
    "df = df.dropna(axis='columns')\n",
    "df.head()"
   ]
  },
  {
   "cell_type": "markdown",
   "id": "1c828548",
   "metadata": {},
   "source": [
    "### Menghapus(drop) Setiap Baris Yang Mengandung Missing Values ###"
   ]
  },
  {
   "cell_type": "code",
   "execution_count": 10,
   "id": "b474c6d3",
   "metadata": {},
   "outputs": [
    {
     "data": {
      "text/html": [
       "<div>\n",
       "<style scoped>\n",
       "    .dataframe tbody tr th:only-of-type {\n",
       "        vertical-align: middle;\n",
       "    }\n",
       "\n",
       "    .dataframe tbody tr th {\n",
       "        vertical-align: top;\n",
       "    }\n",
       "\n",
       "    .dataframe thead th {\n",
       "        text-align: right;\n",
       "    }\n",
       "</style>\n",
       "<table border=\"1\" class=\"dataframe\">\n",
       "  <thead>\n",
       "    <tr style=\"text-align: right;\">\n",
       "      <th></th>\n",
       "      <th>Z</th>\n",
       "      <th>A</th>\n",
       "      <th>B</th>\n",
       "      <th>C</th>\n",
       "      <th>D</th>\n",
       "    </tr>\n",
       "  </thead>\n",
       "  <tbody>\n",
       "    <tr>\n",
       "      <th>1</th>\n",
       "      <td>FQCel9Vd4k</td>\n",
       "      <td>-0.191583</td>\n",
       "      <td>-0.333996</td>\n",
       "      <td>-0.071711</td>\n",
       "      <td>0.186834</td>\n",
       "    </tr>\n",
       "    <tr>\n",
       "      <th>2</th>\n",
       "      <td>mphG83MCXD</td>\n",
       "      <td>0.463929</td>\n",
       "      <td>1.956087</td>\n",
       "      <td>0.086926</td>\n",
       "      <td>-0.452871</td>\n",
       "    </tr>\n",
       "    <tr>\n",
       "      <th>6</th>\n",
       "      <td>s0fnNuHhDd</td>\n",
       "      <td>1.554719</td>\n",
       "      <td>-0.895641</td>\n",
       "      <td>-0.578655</td>\n",
       "      <td>-0.085036</td>\n",
       "    </tr>\n",
       "    <tr>\n",
       "      <th>8</th>\n",
       "      <td>zSvcwVnQOI</td>\n",
       "      <td>-0.143368</td>\n",
       "      <td>0.177799</td>\n",
       "      <td>-0.465076</td>\n",
       "      <td>-0.431961</td>\n",
       "    </tr>\n",
       "    <tr>\n",
       "      <th>9</th>\n",
       "      <td>eoGFKjh0hT</td>\n",
       "      <td>-0.736569</td>\n",
       "      <td>-0.358036</td>\n",
       "      <td>0.553238</td>\n",
       "      <td>0.824484</td>\n",
       "    </tr>\n",
       "  </tbody>\n",
       "</table>\n",
       "</div>"
      ],
      "text/plain": [
       "            Z         A         B         C         D\n",
       "1  FQCel9Vd4k -0.191583 -0.333996 -0.071711  0.186834\n",
       "2  mphG83MCXD  0.463929  1.956087  0.086926 -0.452871\n",
       "6  s0fnNuHhDd  1.554719 -0.895641 -0.578655 -0.085036\n",
       "8  zSvcwVnQOI -0.143368  0.177799 -0.465076 -0.431961\n",
       "9  eoGFKjh0hT -0.736569 -0.358036  0.553238  0.824484"
      ]
     },
     "execution_count": 10,
     "metadata": {},
     "output_type": "execute_result"
    }
   ],
   "source": [
    "df = df_backup.copy(deep=True)\n",
    "df = df.dropna(axis='rows')\n",
    "df.head()"
   ]
  },
  {
   "cell_type": "markdown",
   "id": "77c36f66",
   "metadata": {},
   "source": [
    "### Presentase Missing Values Untuk Tiap Kolom ###"
   ]
  },
  {
   "cell_type": "code",
   "execution_count": 13,
   "id": "8de98797",
   "metadata": {},
   "outputs": [
    {
     "data": {
      "text/plain": [
       "Z    0.000000\n",
       "A    0.133333\n",
       "B    0.066667\n",
       "C    0.066667\n",
       "D    0.133333\n",
       "dtype: float64"
      ]
     },
     "execution_count": 13,
     "metadata": {},
     "output_type": "execute_result"
    }
   ],
   "source": [
    "df = df_backup.copy(deep=True)\n",
    "df.isna().mean()"
   ]
  },
  {
   "cell_type": "markdown",
   "id": "93d1aba2",
   "metadata": {},
   "source": [
    "### Menghapus(drop) Setiap Kolom Yang Mengandung Missing Values Berdasarkan Threshold"
   ]
  },
  {
   "cell_type": "code",
   "execution_count": 16,
   "id": "65c6f199",
   "metadata": {},
   "outputs": [
    {
     "data": {
      "text/html": [
       "<div>\n",
       "<style scoped>\n",
       "    .dataframe tbody tr th:only-of-type {\n",
       "        vertical-align: middle;\n",
       "    }\n",
       "\n",
       "    .dataframe tbody tr th {\n",
       "        vertical-align: top;\n",
       "    }\n",
       "\n",
       "    .dataframe thead th {\n",
       "        text-align: right;\n",
       "    }\n",
       "</style>\n",
       "<table border=\"1\" class=\"dataframe\">\n",
       "  <thead>\n",
       "    <tr style=\"text-align: right;\">\n",
       "      <th></th>\n",
       "      <th>Z</th>\n",
       "      <th>B</th>\n",
       "      <th>C</th>\n",
       "    </tr>\n",
       "  </thead>\n",
       "  <tbody>\n",
       "    <tr>\n",
       "      <th>0</th>\n",
       "      <td>rxASTuobzE</td>\n",
       "      <td>NaN</td>\n",
       "      <td>0.045900</td>\n",
       "    </tr>\n",
       "    <tr>\n",
       "      <th>1</th>\n",
       "      <td>FQCel9Vd4k</td>\n",
       "      <td>-0.333996</td>\n",
       "      <td>-0.071711</td>\n",
       "    </tr>\n",
       "    <tr>\n",
       "      <th>2</th>\n",
       "      <td>mphG83MCXD</td>\n",
       "      <td>1.956087</td>\n",
       "      <td>0.086926</td>\n",
       "    </tr>\n",
       "    <tr>\n",
       "      <th>3</th>\n",
       "      <td>jYZPEuEWOx</td>\n",
       "      <td>-1.156312</td>\n",
       "      <td>NaN</td>\n",
       "    </tr>\n",
       "    <tr>\n",
       "      <th>4</th>\n",
       "      <td>y1X4QR53ty</td>\n",
       "      <td>0.363318</td>\n",
       "      <td>-0.327789</td>\n",
       "    </tr>\n",
       "  </tbody>\n",
       "</table>\n",
       "</div>"
      ],
      "text/plain": [
       "            Z         B         C\n",
       "0  rxASTuobzE       NaN  0.045900\n",
       "1  FQCel9Vd4k -0.333996 -0.071711\n",
       "2  mphG83MCXD  1.956087  0.086926\n",
       "3  jYZPEuEWOx -1.156312       NaN\n",
       "4  y1X4QR53ty  0.363318 -0.327789"
      ]
     },
     "execution_count": 16,
     "metadata": {},
     "output_type": "execute_result"
    }
   ],
   "source": [
    "treshold = len(df) * 0.9\n",
    "df = df.dropna(thresh=treshold, axis='columns')\n",
    "df.head()"
   ]
  }
 ],
 "metadata": {
  "kernelspec": {
   "display_name": "Python 3 (ipykernel)",
   "language": "python",
   "name": "python3"
  },
  "language_info": {
   "codemirror_mode": {
    "name": "ipython",
    "version": 3
   },
   "file_extension": ".py",
   "mimetype": "text/x-python",
   "name": "python",
   "nbconvert_exporter": "python",
   "pygments_lexer": "ipython3",
   "version": "3.9.7"
  }
 },
 "nbformat": 4,
 "nbformat_minor": 5
}
